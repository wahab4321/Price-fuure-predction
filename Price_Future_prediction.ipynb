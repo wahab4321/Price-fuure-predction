{
  "cells": [
    {
      "cell_type": "code",
      "execution_count": null,
      "metadata": {
        "id": "AormQcsBfIjl",
        "colab": {
          "base_uri": "https://localhost:8080/",
          "height": 290
        },
        "outputId": "9beb36a3-b3a9-43da-9ba3-6ea73b987bac"
      },
      "outputs": [
        {
          "output_type": "display_data",
          "data": {
            "text/plain": [
              "<Figure size 432x288 with 1 Axes>"
            ],
            "image/png": "[encoded data removed]"
          },
          "metadata": {
            "needs_background": "light"
          }
        }
      ],
      "source": [
        "import time\n",
        "import pandas as pd\n",
        "import datetime as dt\n",
        "from fredapi import Fred\n",
        "import pandas as pd\n",
        "import yfinance as yf\n",
        "import matplotlib.pyplot as plt\n",
        "# Initialize the FRED API with your API key\n",
        "fred = Fred(api_key='a28a1a156bcf84e0f9fef0821720ae76')\n",
        "start = dt.datetime(1990, 1, 1)\n",
        "end = dt.datetime(2022, 12, 31)\n",
        "ticker = 'AAPL'\n",
        "df = yf.download('AAPL',\n",
        "start = start,\n",
        "end= end,\n",
        "progress=False)\n",
        "df.to_csv('AAPL.csv')\n",
        "gdp = fred.get_series('GDP',start=start, end=end)\n",
        "inflation = fred.get_series('CPIAUCNS',start=start, end=end)\n",
        "unemployment_rate = fred.get_series('UNRATE',start=start, end=end)\n",
        "gdp.name = 'gdp_growth'\n",
        "inflation.name = 'inflation'\n",
        "unemployment_rate.name = 'unemployment_rate'\n",
        "gdp.to_csv('gdp.csv')\n",
        "inflation.to_csv('inflation.csv')\n",
        "unemployment_rate.to_csv('unemployment_rate.csv')\n",
        "data = gdp.to_frame().join(df, how='outer')\n",
        "data = inflation.to_frame().join(data, how='outer')\n",
        "data = unemployment_rate.to_frame().join(data, how='outer')\n",
        "data.to_csv('y.csv')\n",
        "data = data.interpolate(method='linear')\n",
        "plt.plot(df)\n",
        "plt.xlabel('Time')\n",
        "plt.ylabel('AAPL stock trend')\n",
        "plt.show()"
      ]
    },
    {
      "cell_type": "code",
      "source": [
        "pip install fredapi"
      ],
      "metadata": {
        "id": "AXwkhcpPVCLc"
      },
      "execution_count": null,
      "outputs": []
    },
    {
      "cell_type": "code",
      "source": [
        "plt.plot(gdp)\n",
        "plt.xlabel('Time')\n",
        "plt.ylabel('GDP_TREND')\n",
        "plt.show()"
      ],
      "metadata": {
        "colab": {
          "base_uri": "https://localhost:8080/",
          "height": 279
        },
        "id": "5OvnrOwzk9KN",
        "outputId": "2d258335-0598-4b3c-b506-5a3da777ec7b"
      },
      "execution_count": null,
      "outputs": [
        {
          "output_type": "display_data",
          "data": {
            "text/plain": [
              "<Figure size 432x288 with 1 Axes>"
            ],
            "image/png": "[encoded data removed]"
          },
          "metadata": {
            "needs_background": "light"
          }
        }
      ]
    },
    {
      "cell_type": "code",
      "source": [
        "pip install statsmodels\n"
      ],
      "metadata": {
        "id": "eZV9QOnSaia8",
        "colab": {
          "base_uri": "https://localhost:8080/"
        },
        "outputId": "11bfd749-2e68-48ef-b828-bfc25a754fa7"
      },
      "execution_count": null,
      "outputs": [
        {
          "output_type": "stream",
          "name": "stdout",
          "text": [
            "Looking in indexes: https://pypi.org/simple, https://us-python.pkg.dev/colab-wheels/public/simple/\n",
            "Requirement already satisfied: statsmodels in /usr/local/lib/python3.8/dist-packages (0.13.5)\n",
            "Requirement already satisfied: scipy>=1.3 in /usr/local/lib/python3.8/dist-packages (from statsmodels) (1.7.3)\n",
            "Requirement already satisfied: numpy>=1.17 in /usr/local/lib/python3.8/dist-packages (from statsmodels) (1.21.6)\n",
            "Requirement already satisfied: packaging>=21.3 in /usr/local/lib/python3.8/dist-packages (from statsmodels) (21.3)\n",
            "Requirement already satisfied: pandas>=0.25 in /usr/local/lib/python3.8/dist-packages (from statsmodels) (1.3.5)\n",
            "Requirement already satisfied: patsy>=0.5.2 in /usr/local/lib/python3.8/dist-packages (from statsmodels) (0.5.3)\n",
            "Requirement already satisfied: pyparsing!=3.0.5,>=2.0.2 in /usr/local/lib/python3.8/dist-packages (from packaging>=21.3->statsmodels) (3.0.9)\n",
            "Requirement already satisfied: pytz>=2017.3 in /usr/local/lib/python3.8/dist-packages (from pandas>=0.25->statsmodels) (2022.7)\n",
            "Requirement already satisfied: python-dateutil>=2.7.3 in /usr/local/lib/python3.8/dist-packages (from pandas>=0.25->statsmodels) (2.8.2)\n",
            "Requirement already satisfied: six in /usr/local/lib/python3.8/dist-packages (from patsy>=0.5.2->statsmodels) (1.15.0)\n"
          ]
        }
      ]
    },
    {
      "cell_type": "code",
      "execution_count": null,
      "metadata": {
        "colab": {
          "base_uri": "https://localhost:8080/"
        },
        "id": "rYd9K0Aijg1C",
        "outputId": "f7a5389d-e2fd-4635-c691-fe4939fce361"
      },
      "outputs": [
        {
          "output_type": "stream",
          "name": "stdout",
          "text": [
            "1. ADF :  1.1248959713536029\n",
            "2. P-Value :  0.9954235977267152\n",
            "3. Num Of Lags :  34\n",
            "4. Num Of Observations Used For ADF Regression: 8280\n",
            "5. Critical Values :\n",
            "\t 1% :  -3.4311400155136837\n",
            "\t 5% :  -2.8618891318764113\n",
            "\t 10% :  -2.5669558380738176\n"
          ]
        }
      ],
      "source": [
        "from statsmodels.tsa.stattools import adfuller\n",
        "def ad_test(dataset):\n",
        "     dftest = adfuller(dataset, autolag = 'AIC')\n",
        "     print(\"1. ADF : \",dftest[0])\n",
        "     print(\"2. P-Value : \", dftest[1])\n",
        "     print(\"3. Num Of Lags : \", dftest[2])\n",
        "     print(\"4. Num Of Observations Used For ADF Regression:\",      dftest[3])\n",
        "     print(\"5. Critical Values :\")\n",
        "     for key, val in dftest[4].items():\n",
        "         print(\"\\t\",key, \": \", val)\n",
        "ad_test(df['Close'])"
      ]
    },
    {
      "cell_type": "code",
      "execution_count": null,
      "metadata": {
        "colab": {
          "base_uri": "https://localhost:8080/"
        },
        "id": "CNg2WvNWtS0M",
        "outputId": "676e3fe6-b812-41de-bc7e-d6c8338e6ef3"
      },
      "outputs": [
        {
          "output_type": "stream",
          "name": "stdout",
          "text": [
            "Performing stepwise search to minimize aic\n",
            " ARIMA(2,2,2)(0,0,0)[0]             : AIC=inf, Time=7.12 sec\n",
            " ARIMA(0,2,0)(0,0,0)[0]             : AIC=27739.356, Time=0.17 sec\n",
            " ARIMA(1,2,0)(0,0,0)[0]             : AIC=25192.137, Time=0.22 sec\n",
            " ARIMA(0,2,1)(0,0,0)[0]             : AIC=inf, Time=1.79 sec\n",
            " ARIMA(2,2,0)(0,0,0)[0]             : AIC=24190.533, Time=0.59 sec\n",
            " ARIMA(3,2,0)(0,0,0)[0]             : AIC=23547.224, Time=0.82 sec\n",
            " ARIMA(4,2,0)(0,0,0)[0]             : AIC=22975.493, Time=1.00 sec\n",
            " ARIMA(5,2,0)(0,0,0)[0]             : AIC=22789.778, Time=1.27 sec\n",
            " ARIMA(5,2,1)(0,0,0)[0]             : AIC=inf, Time=7.52 sec\n",
            " ARIMA(4,2,1)(0,0,0)[0]             : AIC=inf, Time=5.23 sec\n",
            " ARIMA(5,2,0)(0,0,0)[0] intercept   : AIC=22791.778, Time=2.71 sec\n",
            "\n",
            "Best model:  ARIMA(5,2,0)(0,0,0)[0]          \n",
            "Total fit time: 28.484 seconds\n"
          ]
        }
      ],
      "source": [
        "from pmdarima import auto_arima\n",
        "stepwise_fit = auto_arima(df['Close'], trace=True,suppress_warnhings=True)"
      ]
    },
    {
      "cell_type": "code",
      "execution_count": null,
      "metadata": {
        "id": "Ms1kXpJBFVnZ",
        "colab": {
          "base_uri": "https://localhost:8080/"
        },
        "outputId": "6822ad0c-2698-4aac-9552-50643a61066e"
      },
      "outputs": [
        {
          "output_type": "stream",
          "name": "stdout",
          "text": [
            "Looking in indexes: https://pypi.org/simple, https://us-python.pkg.dev/colab-wheels/public/simple/\n",
            "Collecting pmdarima\n",
            "  Downloading pmdarima-2.0.2-cp38-cp38-manylinux_2_17_x86_64.manylinux2014_x86_64.manylinux_2_28_x86_64.whl (1.9 MB)\n",
            "\u001b[2K     \u001b[90m━━━━━━━━━━━━━━━━━━━━━━━━━━━━━━━━━━━━━━━━\u001b[0m \u001b[32m1.9/1.9 MB\u001b[0m \u001b[31m40.1 MB/s\u001b[0m eta \u001b[36m0:00:00\u001b[0m\n",
            "\u001b[?25hRequirement already satisfied: joblib>=0.11 in /usr/local/lib/python3.8/dist-packages (from pmdarima) (1.2.0)\n",
            "Requirement already satisfied: pandas>=0.19 in /usr/local/lib/python3.8/dist-packages (from pmdarima) (1.3.5)\n",
            "Requirement already satisfied: numpy>=1.21.2 in /usr/local/lib/python3.8/dist-packages (from pmdarima) (1.21.6)\n",
            "Collecting statsmodels>=0.13.2\n",
            "  Downloading statsmodels-0.13.5-cp38-cp38-manylinux_2_17_x86_64.manylinux2014_x86_64.whl (9.9 MB)\n",
            "\u001b[2K     \u001b[90m━━━━━━━━━━━━━━━━━━━━━━━━━━━━━━━━━━━━━━━━\u001b[0m \u001b[32m9.9/9.9 MB\u001b[0m \u001b[31m51.4 MB/s\u001b[0m eta \u001b[36m0:00:00\u001b[0m\n",
            "\u001b[?25hRequirement already satisfied: scikit-learn>=0.22 in /usr/local/lib/python3.8/dist-packages (from pmdarima) (1.0.2)\n",
            "Requirement already satisfied: setuptools!=50.0.0,>=38.6.0 in /usr/local/lib/python3.8/dist-packages (from pmdarima) (57.4.0)\n",
            "Requirement already satisfied: Cython!=0.29.18,!=0.29.31,>=0.29 in /usr/local/lib/python3.8/dist-packages (from pmdarima) (0.29.32)\n",
            "Requirement already satisfied: urllib3 in /usr/local/lib/python3.8/dist-packages (from pmdarima) (1.24.3)\n",
            "Requirement already satisfied: scipy>=1.3.2 in /usr/local/lib/python3.8/dist-packages (from pmdarima) (1.7.3)\n",
            "Requirement already satisfied: python-dateutil>=2.7.3 in /usr/local/lib/python3.8/dist-packages (from pandas>=0.19->pmdarima) (2.8.2)\n",
            "Requirement already satisfied: pytz>=2017.3 in /usr/local/lib/python3.8/dist-packages (from pandas>=0.19->pmdarima) (2022.7)\n",
            "Requirement already satisfied: threadpoolctl>=2.0.0 in /usr/local/lib/python3.8/dist-packages (from scikit-learn>=0.22->pmdarima) (3.1.0)\n",
            "Requirement already satisfied: patsy>=0.5.2 in /usr/local/lib/python3.8/dist-packages (from statsmodels>=0.13.2->pmdarima) (0.5.3)\n",
            "Requirement already satisfied: packaging>=21.3 in /usr/local/lib/python3.8/dist-packages (from statsmodels>=0.13.2->pmdarima) (21.3)\n",
            "Requirement already satisfied: pyparsing!=3.0.5,>=2.0.2 in /usr/local/lib/python3.8/dist-packages (from packaging>=21.3->statsmodels>=0.13.2->pmdarima) (3.0.9)\n",
            "Requirement already satisfied: six in /usr/local/lib/python3.8/dist-packages (from patsy>=0.5.2->statsmodels>=0.13.2->pmdarima) (1.15.0)\n",
            "Installing collected packages: statsmodels, pmdarima\n",
            "Successfully installed pmdarima-2.0.2 statsmodels-0.13.5\n"
          ]
        }
      ],
      "source": [
        "pip install pmdarima"
      ]
    },
    {
      "cell_type": "code",
      "execution_count": null,
      "metadata": {
        "colab": {
          "base_uri": "https://localhost:8080/"
        },
        "id": "tg_ZnXEJGae6",
        "outputId": "430a9f69-e512-480e-9b0e-eca0b413c8f7"
      },
      "outputs": [
        {
          "output_type": "stream",
          "name": "stdout",
          "text": [
            "(8315, 6)\n",
            "(8285, 6) (30, 6)\n"
          ]
        }
      ],
      "source": [
        "print(df.shape)\n",
        "train=df.iloc[:-30]\n",
        "test=df.iloc[-30:]\n",
        "print(train.shape,test.shape)"
      ]
    },
    {
      "cell_type": "code",
      "execution_count": null,
      "metadata": {
        "colab": {
          "base_uri": "https://localhost:8080/",
          "height": 618
        },
        "id": "8j0cPoEIGpIc",
        "outputId": "c8469a43-2ef7-468d-a2f4-4a547813fb96"
      },
      "outputs": [
        {
          "output_type": "stream",
          "name": "stderr",
          "text": [
            "/usr/local/lib/python3.8/dist-packages/statsmodels/tsa/base/tsa_model.py:471: ValueWarning: A date index has been provided, but it has no associated frequency information and so will be ignored when e.g. forecasting.\n",
            "  self._init_dates(dates, freq)\n",
            "/usr/local/lib/python3.8/dist-packages/statsmodels/tsa/base/tsa_model.py:471: ValueWarning: A date index has been provided, but it has no associated frequency information and so will be ignored when e.g. forecasting.\n",
            "  self._init_dates(dates, freq)\n",
            "/usr/local/lib/python3.8/dist-packages/statsmodels/tsa/base/tsa_model.py:471: ValueWarning: A date index has been provided, but it has no associated frequency information and so will be ignored when e.g. forecasting.\n",
            "  self._init_dates(dates, freq)\n"
          ]
        },
        {
          "output_type": "execute_result",
          "data": {
            "text/plain": [
              "<class 'statsmodels.iolib.summary.Summary'>\n",
              "\"\"\"\n",
              "                               SARIMAX Results                                \n",
              "==============================================================================\n",
              "Dep. Variable:                  Close   No. Observations:                 8285\n",
              "Model:                 ARIMA(5, 2, 0)   Log Likelihood              -11204.319\n",
              "Date:                Sat, 14 Jan 2023   AIC                          22420.638\n",
              "Time:                        08:22:36   BIC                          22462.770\n",
              "Sample:                             0   HQIC                         22435.034\n",
              "                               - 8285                                         \n",
              "Covariance Type:                  opg                                         \n",
              "==============================================================================\n",
              "                 coef    std err          z      P>|z|      [0.025      0.975]\n",
              "------------------------------------------------------------------------------\n",
              "ar.L1         -0.8958      0.003   -288.350      0.000      -0.902      -0.890\n",
              "ar.L2         -0.7367      0.004   -180.531      0.000      -0.745      -0.729\n",
              "ar.L3         -0.5750      0.004   -137.720      0.000      -0.583      -0.567\n",
              "ar.L4         -0.3758      0.004    -96.334      0.000      -0.383      -0.368\n",
              "ar.L5         -0.1435      0.003    -43.428      0.000      -0.150      -0.137\n",
              "sigma2         0.8758      0.003    292.811      0.000       0.870       0.882\n",
              "===================================================================================\n",
              "Ljung-Box (L1) (Q):                   5.07   Jarque-Bera (JB):            612852.13\n",
              "Prob(Q):                              0.02   Prob(JB):                         0.00\n",
              "Heteroskedasticity (H):            6612.12   Skew:                             0.63\n",
              "Prob(H) (two-sided):                  0.00   Kurtosis:                        45.12\n",
              "===================================================================================\n",
              "\n",
              "Warnings:\n",
              "[1] Covariance matrix calculated using the outer product of gradients (complex-step).\n",
              "\"\"\""
            ],
            "text/html": [
              "<table class=\"simpletable\">\n",
              "<caption>SARIMAX Results</caption>\n",
              "<tr>\n",
              "  <th>Dep. Variable:</th>         <td>Close</td>      <th>  No. Observations:  </th>    <td>8285</td>   \n",
              "</tr>\n",
              "<tr>\n",
              "  <th>Model:</th>            <td>ARIMA(5, 2, 0)</td>  <th>  Log Likelihood     </th> <td>-11204.319</td>\n",
              "</tr>\n",
              "<tr>\n",
              "  <th>Date:</th>            <td>Sat, 14 Jan 2023</td> <th>  AIC                </th>  <td>22420.638</td>\n",
              "</tr>\n",
              "<tr>\n",
              "  <th>Time:</th>                <td>08:22:36</td>     <th>  BIC                </th>  <td>22462.770</td>\n",
              "</tr>\n",
              "<tr>\n",
              "  <th>Sample:</th>                  <td>0</td>        <th>  HQIC               </th>  <td>22435.034</td>\n",
              "</tr>\n",
              "<tr>\n",
              "  <th></th>                      <td> - 8285</td>     <th>                     </th>      <td> </td>    \n",
              "</tr>\n",
              "<tr>\n",
              "  <th>Covariance Type:</th>        <td>opg</td>       <th>                     </th>      <td> </td>    \n",
              "</tr>\n",
              "</table>\n",
              "<table class=\"simpletable\">\n",
              "<tr>\n",
              "     <td></td>       <th>coef</th>     <th>std err</th>      <th>z</th>      <th>P>|z|</th>  <th>[0.025</th>    <th>0.975]</th>  \n",
              "</tr>\n",
              "<tr>\n",
              "  <th>ar.L1</th>  <td>   -0.8958</td> <td>    0.003</td> <td> -288.350</td> <td> 0.000</td> <td>   -0.902</td> <td>   -0.890</td>\n",
              "</tr>\n",
              "<tr>\n",
              "  <th>ar.L2</th>  <td>   -0.7367</td> <td>    0.004</td> <td> -180.531</td> <td> 0.000</td> <td>   -0.745</td> <td>   -0.729</td>\n",
              "</tr>\n",
              "<tr>\n",
              "  <th>ar.L3</th>  <td>   -0.5750</td> <td>    0.004</td> <td> -137.720</td> <td> 0.000</td> <td>   -0.583</td> <td>   -0.567</td>\n",
              "</tr>\n",
              "<tr>\n",
              "  <th>ar.L4</th>  <td>   -0.3758</td> <td>    0.004</td> <td>  -96.334</td> <td> 0.000</td> <td>   -0.383</td> <td>   -0.368</td>\n",
              "</tr>\n",
              "<tr>\n",
              "  <th>ar.L5</th>  <td>   -0.1435</td> <td>    0.003</td> <td>  -43.428</td> <td> 0.000</td> <td>   -0.150</td> <td>   -0.137</td>\n",
              "</tr>\n",
              "<tr>\n",
              "  <th>sigma2</th> <td>    0.8758</td> <td>    0.003</td> <td>  292.811</td> <td> 0.000</td> <td>    0.870</td> <td>    0.882</td>\n",
              "</tr>\n",
              "</table>\n",
              "<table class=\"simpletable\">\n",
              "<tr>\n",
              "  <th>Ljung-Box (L1) (Q):</th>      <td>5.07</td>   <th>  Jarque-Bera (JB):  </th> <td>612852.13</td>\n",
              "</tr>\n",
              "<tr>\n",
              "  <th>Prob(Q):</th>                 <td>0.02</td>   <th>  Prob(JB):          </th>   <td>0.00</td>   \n",
              "</tr>\n",
              "<tr>\n",
              "  <th>Heteroskedasticity (H):</th> <td>6612.12</td> <th>  Skew:              </th>   <td>0.63</td>   \n",
              "</tr>\n",
              "<tr>\n",
              "  <th>Prob(H) (two-sided):</th>     <td>0.00</td>   <th>  Kurtosis:          </th>   <td>45.12</td>  \n",
              "</tr>\n",
              "</table><br/><br/>Warnings:<br/>[1] Covariance matrix calculated using the outer product of gradients (complex-step)."
            ]
          },
          "metadata": {},
          "execution_count": 61
        }
      ],
      "source": [
        "from statsmodels.tsa.arima.model import ARIMA\n",
        "model=ARIMA(train['Close'],order=(5,2,0))\n",
        "model=model.fit()\n",
        "model.summary()"
      ]
    },
    {
      "cell_type": "code",
      "execution_count": null,
      "metadata": {
        "id": "0Oz7RupkHX10"
      },
      "outputs": [],
      "source": []
    },
    {
      "cell_type": "code",
      "execution_count": null,
      "metadata": {
        "id": "GYwvm517EFEz"
      },
      "outputs": [],
      "source": [
        "pip install fredapi"
      ]
    },
    {
      "cell_type": "code",
      "execution_count": null,
      "metadata": {
        "colab": {
          "base_uri": "https://localhost:8080/"
        },
        "id": "Y40oGH52IlIa",
        "outputId": "d4b8c9ea-1ccb-405c-98e3-c962dd066233"
      },
      "outputs": [
        {
          "output_type": "stream",
          "name": "stderr",
          "text": [
            "/usr/local/lib/python3.8/dist-packages/statsmodels/tsa/base/tsa_model.py:834: ValueWarning: No supported index is available. Prediction results will be given with an integer index beginning at `start`.\n",
            "  return get_prediction_index(\n"
          ]
        },
        {
          "output_type": "execute_result",
          "data": {
            "text/plain": [
              "8285    151.395779\n",
              "8286    153.849971\n",
              "8287    154.745089\n",
              "8288    155.606086\n",
              "8289    156.716618\n",
              "8290    158.028710\n",
              "8291    159.603617\n",
              "8292    160.887736\n",
              "8293    162.033955\n",
              "8294    163.255266\n",
              "8295    164.550416\n",
              "8296    165.874932\n",
              "8297    167.169122\n",
              "8298    168.417965\n",
              "8299    169.674362\n",
              "8300    170.953204\n",
              "8301    172.239629\n",
              "8302    173.519774\n",
              "8303    174.790723\n",
              "8304    176.060658\n",
              "8305    177.335816\n",
              "8306    178.613602\n",
              "8307    179.890126\n",
              "8308    181.164542\n",
              "8309    182.438448\n",
              "8310    183.713352\n",
              "8311    184.989046\n",
              "8312    186.264564\n",
              "8313    187.539578\n",
              "8314    188.814417\n",
              "Name: ARIMA Predictions, dtype: float64"
            ]
          },
          "metadata": {},
          "execution_count": 62
        }
      ],
      "source": [
        "start=len(train)\n",
        "end=len(train)+len(test)-1\n",
        "pred=model.predict(start=start,end=end,typ='levels').rename('ARIMA Predictions')\n",
        "pred"
      ]
    },
    {
      "cell_type": "markdown",
      "source": [
        "Sentiment Anylasis"
      ],
      "metadata": {
        "id": "p3OoinTJuSQv"
      }
    },
    {
      "cell_type": "code",
      "execution_count": null,
      "metadata": {
        "colab": {
          "base_uri": "https://localhost:8080/"
        },
        "id": "DnR61qcRJF0I",
        "outputId": "b253eb5c-a4ae-49d5-e939-336f8dc0e370"
      },
      "outputs": [
        {
          "output_type": "stream",
          "name": "stdout",
          "text": [
            "The average sentiment for the stock AAPL is: 0.12708999999999995\n"
          ]
        },
        {
          "output_type": "stream",
          "name": "stderr",
          "text": [
            "[nltk_data] Downloading package vader_lexicon to /root/nltk_data...\n",
            "[nltk_data]   Package vader_lexicon is already up-to-date!\n"
          ]
        }
      ],
      "source": [
        "from newsapi.newsapi_client import NewsApiClient\n",
        "from nltk.sentiment import SentimentIntensityAnalyzer\n",
        "\n",
        "# Initialize the News API client\n",
        "newsapi = NewsApiClient(api_key='a6cb0761ca8c4266a61d317844bc25f5')\n",
        "\n",
        "# Search for news articles about Apple stock\n",
        "stock = 'AAPL'\n",
        "articles = newsapi.get_everything(q=stock, language='en', sort_by='relevancy')\n",
        "import nltk\n",
        "nltk.download('vader_lexicon')\n",
        "# Initialize the sentiment analyzer\n",
        "sia = SentimentIntensityAnalyzer()\n",
        "\n",
        "# Analyze the sentiment of each article\n",
        "sentiment_list = []\n",
        "for article in articles['articles']:\n",
        "    text = article['content']\n",
        "    sentiment = sia.polarity_scores(text)['compound']\n",
        "    sentiment_list.append(sentiment)\n",
        "\n",
        "# Calculating the average sentiment\n",
        "avg_sentiment = sum(sentiment_list) / len(sentiment_list)\n",
        "print(f'The average sentiment for the stock {stock} is: {avg_sentiment}')"
      ]
    },
    {
      "cell_type": "code",
      "source": [
        "pip install newsapi-python"
      ],
      "metadata": {
        "id": "XObPRyXFXYOX"
      },
      "execution_count": null,
      "outputs": []
    },
    {
      "cell_type": "markdown",
      "source": [
        "Incorporating sentiment on stock"
      ],
      "metadata": {
        "id": "u5qaoIae72M1"
      }
    },
    {
      "cell_type": "code",
      "execution_count": null,
      "metadata": {
        "colab": {
          "base_uri": "https://localhost:8080/"
        },
        "id": "iUhd-czMm8KS",
        "outputId": "e9a6b0a4-39bf-47de-84c5-7982e1f856d4"
      },
      "outputs": [
        {
          "output_type": "stream",
          "name": "stdout",
          "text": [
            "Market is good to Trade as per sentiment Market will go up\n"
          ]
        }
      ],
      "source": [
        "if avg_sentiment>0:\n",
        "  print('Market is good to Trade as per sentiment Market will go up')\n",
        "elif avg_sentiment<0:\n",
        "  print('Market is not good to trade on AAPL sticker')"
      ]
    },
    {
      "cell_type": "markdown",
      "source": [
        "Competitor analysis on AAPL stock"
      ],
      "metadata": {
        "id": "085NwkEG-vlD"
      }
    },
    {
      "cell_type": "code",
      "execution_count": null,
      "metadata": {
        "id": "MpAMy469rLzK",
        "colab": {
          "base_uri": "https://localhost:8080/"
        },
        "outputId": "843f08b6-e49a-4af5-9cdf-46fea2a1c333"
      },
      "outputs": [
        {
          "output_type": "stream",
          "name": "stdout",
          "text": [
            "[*********************100%***********************]  4 of 4 completed\n",
            "Market Share:\n",
            "MSFT     46.083794\n",
            "GOOGL    37.861003\n",
            "AMZN     31.023559\n",
            "AAPL     16.572531\n",
            "dtype: float64\n",
            "\n",
            "Stock Price Correlation:\n",
            "           AAPL      AMZN     GOOGL      MSFT\n",
            "AAPL   1.000000  0.947181  0.972192  0.976260\n",
            "AMZN   0.947181  1.000000  0.955856  0.959537\n",
            "GOOGL  0.972192  0.955856  1.000000  0.978124\n",
            "MSFT   0.976260  0.959537  0.978124  1.000000\n"
          ]
        }
      ],
      "source": [
        "import pandas as pd\n",
        "import pandas_datareader as pdr\n",
        "\n",
        "# Get financial data for Apple and its competitors\n",
        "ticker = ['AAPL', 'AMZN', 'GOOGL', 'MSFT']\n",
        "financial_data = yf.download(ticker)\n",
        "\n",
        "# Calculate market share for each company\n",
        "market_share = financial_data['Close'].mean()\n",
        "market_share = market_share.sort_values(ascending=False)\n",
        "\n",
        "# Print the market share for each company\n",
        "print(\"Market Share:\")\n",
        "print(market_share)\n",
        "\n",
        "# Calculate the correlation between Apple's stock price and its competitors'\n",
        "correlation = financial_data['Close'].corr()\n",
        "\n",
        "# Print the correlation between Apple's stock price and its competitors'\n",
        "print(\"\\nStock Price Correlation:\")\n",
        "print(correlation)"
      ]
    },
    {
      "cell_type": "markdown",
      "source": [
        "Demand forecasting"
      ],
      "metadata": {
        "id": "iGm4FrrJCnw5"
      }
    },
    {
      "cell_type": "code",
      "execution_count": null,
      "metadata": {
        "colab": {
          "base_uri": "https://localhost:8080/"
        },
        "id": "lmmYH0BTPkHn",
        "outputId": "f6e7edd0-7d63-40a9-8797-fadd7897a40e"
      },
      "outputs": [
        {
          "output_type": "stream",
          "name": "stdout",
          "text": [
            "next predictions on price\n",
            "8285    151.395779\n",
            "8286    153.849971\n",
            "8287    154.745089\n",
            "8288    155.606086\n",
            "8289    156.716618\n",
            "8290    158.028710\n",
            "8291    159.603617\n",
            "8292    160.887736\n",
            "8293    162.033955\n",
            "8294    163.255266\n",
            "8295    164.550416\n",
            "8296    165.874932\n",
            "8297    167.169122\n",
            "8298    168.417965\n",
            "8299    169.674362\n",
            "8300    170.953204\n",
            "8301    172.239629\n",
            "8302    173.519774\n",
            "8303    174.790723\n",
            "8304    176.060658\n",
            "8305    177.335816\n",
            "8306    178.613602\n",
            "8307    179.890126\n",
            "8308    181.164542\n",
            "8309    182.438448\n",
            "8310    183.713352\n",
            "8311    184.989046\n",
            "8312    186.264564\n",
            "8313    187.539578\n",
            "8314    188.814417\n",
            "Name: ARIMA Predictions, dtype: float64\n"
          ]
        },
        {
          "output_type": "stream",
          "name": "stderr",
          "text": [
            "/usr/local/lib/python3.8/dist-packages/statsmodels/tsa/base/tsa_model.py:834: ValueWarning: No supported index is available. Prediction results will be given with an integer index beginning at `start`.\n",
            "  return get_prediction_index(\n"
          ]
        }
      ],
      "source": [
        "pred=model.predict(start=start,end=end,typ='levels').rename('ARIMA Predictions')\n",
        "print('next predictions on price')\n",
        "print(pred)"
      ]
    },
    {
      "cell_type": "code",
      "source": [],
      "metadata": {
        "id": "1JIC9A8cWz_l"
      },
      "execution_count": null,
      "outputs": []
    },
    {
      "cell_type": "markdown",
      "source": [
        "Supply chain analysis"
      ],
      "metadata": {
        "id": "mrXMCaPsEFMz"
      }
    },
    {
      "cell_type": "code",
      "execution_count": null,
      "metadata": {
        "id": "IdqeMbbQdpCI",
        "colab": {
          "base_uri": "https://localhost:8080/"
        },
        "outputId": "5f717009-23c0-4049-ac3d-bbda71beed4e"
      },
      "outputs": [
        {
          "output_type": "stream",
          "name": "stdout",
          "text": [
            "Net Income: -73.68338958919048\n"
          ]
        }
      ],
      "source": [
        "import pandas as pd\n",
        "\n",
        "# Read the financial data from a CSV file\n",
        "financial_data = pd.read_csv(\"/content/AAPL.csv\")\n",
        "y = financial_data['Open']\n",
        "# Calculate the total revenue for the company\n",
        "total_revenue = y.sum()\n",
        "y1 = financial_data['Close']\n",
        "# Calculate the total expenses for the company\n",
        "total_expenses = y1.sum()\n",
        "\n",
        "# Calculate the net income for the company\n",
        "net_income = total_revenue - total_expenses\n",
        "\n",
        "# Print the net income\n",
        "print(\"Net Income:\", net_income)\n"
      ]
    },
    {
      "cell_type": "markdown",
      "source": [
        "Decision abouth your trade will depend on Net income untill now"
      ],
      "metadata": {
        "id": "jez4s4_-XHUA"
      }
    },
    {
      "cell_type": "code",
      "source": [
        "if net_income>0:\n",
        "  print('stock is in demand')\n",
        "else:\n",
        "  print('stock is not in demand')"
      ],
      "metadata": {
        "colab": {
          "base_uri": "https://localhost:8080/"
        },
        "id": "m-6KTFiYXSvg",
        "outputId": "a7cf2f1e-9512-4934-ed30-656e51e19bc8"
      },
      "execution_count": null,
      "outputs": [
        {
          "output_type": "stream",
          "name": "stdout",
          "text": [
            "stock is not in demand\n"
          ]
        }
      ]
    },
    {
      "cell_type": "markdown",
      "source": [
        "Customer segmentation"
      ],
      "metadata": {
        "id": "jhoI_sBNmITx"
      }
    },
    {
      "cell_type": "code",
      "source": [
        "from sklearn.cluster import KMeans\n",
        "from sklearn.linear_model import LogisticRegression\n",
        "from sklearn.model_selection import train_test_split\n",
        "\n",
        "# Load customer data\n",
        "data = pd.read_csv(\"/content/AAPL.csv\")\n",
        "\n",
        "# Segment customers using k-means\n",
        "kmeans = KMeans(n_clusters=3)\n",
        "data[\"segment\"] = kmeans.fit_predict(data[[\"Open\", \"Close\", \"Adj Close\"]])\n",
        "\n",
        "# Train a logistic regression model on the segmented data\n",
        "X = data[[\"segment\", \"Open\"]]\n",
        "y = data[\"Close\"].apply(lambda x: 1 if x>10 else 0)\n",
        "X_train, X_test, y_train, y_test = train_test_split(X, y, test_size=0.2)\n",
        "model = LogisticRegression()\n",
        "model.fit(X_train, y_train)\n",
        "\n",
        "# Predict likelihood of purchasing AAPL stock at different price points for each segment\n",
        "segment_0 = model.predict_proba([[0, 5], [0, 10], [0, 20]])\n",
        "segment_1 = model.predict_proba([[1, 20], [1, 10], [1, 15]])\n",
        "segment_2 = model.predict_proba([[2, 100], [2, 110], [2, 120]])\n",
        "segment_0"
      ],
      "metadata": {
        "colab": {
          "base_uri": "https://localhost:8080/"
        },
        "id": "4AdAcWLqmLtZ",
        "outputId": "1b623440-6e75-4147-c73a-90969351cf17"
      },
      "execution_count": null,
      "outputs": [
        {
          "output_type": "stream",
          "name": "stderr",
          "text": [
            "/usr/local/lib/python3.8/dist-packages/sklearn/base.py:450: UserWarning: X does not have valid feature names, but LogisticRegression was fitted with feature names\n",
            "  warnings.warn(\n",
            "/usr/local/lib/python3.8/dist-packages/sklearn/base.py:450: UserWarning: X does not have valid feature names, but LogisticRegression was fitted with feature names\n",
            "  warnings.warn(\n",
            "/usr/local/lib/python3.8/dist-packages/sklearn/base.py:450: UserWarning: X does not have valid feature names, but LogisticRegression was fitted with feature names\n",
            "  warnings.warn(\n"
          ]
        },
        {
          "output_type": "execute_result",
          "data": {
            "text/plain": [
              "array([[9.99999997e-01, 2.63113314e-09],\n",
              "       [5.51640518e-01, 4.48359482e-01],\n",
              "       [0.00000000e+00, 1.00000000e+00]])"
            ]
          },
          "metadata": {},
          "execution_count": 68
        }
      ]
    },
    {
      "cell_type": "markdown",
      "source": [
        "Price elasticity analysis"
      ],
      "metadata": {
        "id": "69sMAW6E6d7s"
      }
    },
    {
      "cell_type": "code",
      "source": [
        "import pandas_datareader as pdr\n",
        "import numpy as np\n",
        "\n",
        "# Retrieve the historical data for AAPL stock\n",
        "stock_data = pd.read_csv('/content/AAPL.csv')\n",
        "\n",
        "# Calculate the percentage change in closing price\n",
        "stock_data[\"price_change\"] = stock_data[\"Close\"].pct_change()\n",
        "\n",
        "# Calculate the percentage change in trading volume\n",
        "stock_data[\"quantity_change\"] = stock_data[\"Volume\"].pct_change()\n",
        "\n",
        "# Calculate the price elasticity of demand\n",
        "stock_data[\"price_elasticity\"] = stock_data[\"quantity_change\"] / stock_data[\"price_change\"]\n",
        "\n",
        "# Print the results\n",
        "print(stock_data[[\"price_elasticity\"]])\n"
      ],
      "metadata": {
        "colab": {
          "base_uri": "https://localhost:8080/"
        },
        "id": "b3peGPI-6fqa",
        "outputId": "82203960-181a-4f94-9d84-66b73dcaf2d4"
      },
      "execution_count": null,
      "outputs": [
        {
          "output_type": "stream",
          "name": "stdout",
          "text": [
            "      price_elasticity\n",
            "0                  NaN\n",
            "1            20.169285\n",
            "2            19.481544\n",
            "3          -133.447416\n",
            "4           -26.622350\n",
            "...                ...\n",
            "8310         64.438311\n",
            "8311         -5.863399\n",
            "8312         -7.759364\n",
            "8313         -4.022626\n",
            "8314          6.724855\n",
            "\n",
            "[8315 rows x 1 columns]\n"
          ]
        }
      ]
    },
    {
      "cell_type": "markdown",
      "source": [
        "Promotional pricing"
      ],
      "metadata": {
        "id": "LwK0kEU1Gl6k"
      }
    },
    {
      "cell_type": "code",
      "source": [
        "import pandas_datareader as pdr\n",
        "import numpy as np\n",
        "\n",
        "# Retrieve the historical data for AAPL stock\n",
        "stock_data = pd.read_csv('/content/AAPL.csv')\n",
        "\n",
        "# Set the promotional price\n",
        "promotional_price = stock_data[\"Close\"].mean() * 0.9\n",
        "\n",
        "# Calculate the percentage change in sales\n",
        "stock_data[\"sales_change\"] = (stock_data[\"Close\"] - promotional_price) / stock_data[\"Close\"]\n",
        "\n",
        "# Print the results\n",
        "print(stock_data[[\"sales_change\"]])"
      ],
      "metadata": {
        "colab": {
          "base_uri": "https://localhost:8080/"
        },
        "id": "WXnmb5wzGnXT",
        "outputId": "fa50e55e-a474-4e13-f62c-7e9f582fb484"
      },
      "execution_count": null,
      "outputs": [
        {
          "output_type": "stream",
          "name": "stdout",
          "text": [
            "      sales_change\n",
            "0       -55.705082\n",
            "1       -55.327075\n",
            "2       -55.139783\n",
            "3       -54.953900\n",
            "4       -54.585809\n",
            "...            ...\n",
            "8310      0.856973\n",
            "8311      0.854960\n",
            "8312      0.850369\n",
            "8313      0.854490\n",
            "8314      0.854849\n",
            "\n",
            "[8315 rows x 1 columns]\n"
          ]
        }
      ]
    },
    {
      "cell_type": "markdown",
      "source": [
        "OPTIMAL PRICING FOR SALE"
      ],
      "metadata": {
        "id": "zEOv602iJbjh"
      }
    },
    {
      "cell_type": "code",
      "source": [
        "y5 = stock_data[[\"sales_change\"]]\n",
        "y3 = pd.read_csv('/content/AAPL.csv')['Close']\n",
        "for i in range(len(y5.sales_change)):\n",
        "  if y5.sales_change[i]>0.8:\n",
        "    print('promotional prices you can consider',y3[i])"
      ],
      "metadata": {
        "colab": {
          "base_uri": "https://localhost:8080/"
        },
        "id": "12ewEDOGJf6y",
        "outputId": "cc57d73b-4388-499c-b761-635887b1eb15"
      },
      "execution_count": null,
      "outputs": [
        {
          "output_type": "stream",
          "name": "stdout",
          "text": [
            "promotional prices you can consider 95.34249877929688\n",
            "promotional prices you can consider 95.75250244140624\n",
            "promotional prices you can consider 95.91999816894533\n",
            "promotional prices you can consider 95.47750091552734\n",
            "promotional prices you can consider 97.05750274658205\n",
            "promotional prices you can consider 97.7249984741211\n",
            "promotional prices you can consider 96.52249908447266\n",
            "promotional prices you can consider 96.32749938964844\n",
            "promotional prices you can consider 98.35749816894533\n",
            "promotional prices you can consider 97.0\n",
            "promotional prices you can consider 97.27249908447266\n",
            "promotional prices you can consider 94.80999755859376\n",
            "promotional prices you can consider 95.04000091552734\n",
            "promotional prices you can consider 96.19000244140624\n",
            "promotional prices you can consider 106.26000213623048\n",
            "promotional prices you can consider 108.9375\n",
            "promotional prices you can consider 109.66500091552734\n",
            "promotional prices you can consider 110.0625\n",
            "promotional prices you can consider 113.90249633789062\n",
            "promotional prices you can consider 111.1125030517578\n",
            "promotional prices you can consider 112.72750091552734\n",
            "promotional prices you can consider 109.375\n",
            "promotional prices you can consider 113.01000213623048\n",
            "promotional prices you can consider 115.01000213623048\n",
            "promotional prices you can consider 114.90750122070312\n",
            "promotional prices you can consider 114.60749816894533\n",
            "promotional prices you can consider 115.5625\n",
            "promotional prices you can consider 115.7074966430664\n",
            "promotional prices you can consider 118.2750015258789\n",
            "promotional prices you can consider 124.37000274658205\n",
            "promotional prices you can consider 125.85749816894533\n",
            "promotional prices you can consider 124.8249969482422\n",
            "promotional prices you can consider 126.52249908447266\n",
            "promotional prices you can consider 125.01000213623048\n",
            "promotional prices you can consider 124.80750274658205\n",
            "promotional prices you can consider 129.0399932861328\n",
            "promotional prices you can consider 134.17999267578125\n",
            "promotional prices you can consider 131.39999389648438\n",
            "promotional prices you can consider 120.87999725341795\n",
            "promotional prices you can consider 120.95999908447266\n",
            "promotional prices you can consider 112.81999969482422\n",
            "promotional prices you can consider 117.31999969482422\n",
            "promotional prices you can consider 113.48999786376952\n",
            "promotional prices you can consider 112.0\n",
            "promotional prices you can consider 115.36000061035156\n",
            "promotional prices you can consider 115.54000091552734\n",
            "promotional prices you can consider 112.12999725341795\n",
            "promotional prices you can consider 110.33999633789062\n",
            "promotional prices you can consider 106.83999633789062\n",
            "promotional prices you can consider 110.08000183105467\n",
            "promotional prices you can consider 111.80999755859376\n",
            "promotional prices you can consider 107.12000274658205\n",
            "promotional prices you can consider 108.22000122070312\n",
            "promotional prices you can consider 112.27999877929688\n",
            "promotional prices you can consider 114.95999908447266\n",
            "promotional prices you can consider 114.08999633789062\n",
            "promotional prices you can consider 115.80999755859376\n",
            "promotional prices you can consider 116.79000091552734\n",
            "promotional prices you can consider 113.0199966430664\n",
            "promotional prices you can consider 116.5\n",
            "promotional prices you can consider 113.16000366210938\n",
            "promotional prices you can consider 115.08000183105467\n",
            "promotional prices you can consider 114.97000122070312\n",
            "promotional prices you can consider 116.97000122070312\n",
            "promotional prices you can consider 124.4000015258789\n",
            "promotional prices you can consider 121.0999984741211\n",
            "promotional prices you can consider 121.19000244140624\n",
            "promotional prices you can consider 120.70999908447266\n",
            "promotional prices you can consider 119.0199966430664\n",
            "promotional prices you can consider 115.9800033569336\n",
            "promotional prices you can consider 117.51000213623048\n",
            "promotional prices you can consider 116.87000274658205\n",
            "promotional prices you can consider 115.75\n",
            "promotional prices you can consider 115.04000091552734\n",
            "promotional prices you can consider 115.0500030517578\n",
            "promotional prices you can consider 116.5999984741211\n",
            "promotional prices you can consider 111.1999969482422\n",
            "promotional prices you can consider 115.31999969482422\n",
            "promotional prices you can consider 108.86000061035156\n",
            "promotional prices you can consider 108.7699966430664\n",
            "promotional prices you can consider 110.44000244140624\n",
            "promotional prices you can consider 114.9499969482422\n",
            "promotional prices you can consider 119.02999877929688\n",
            "promotional prices you can consider 118.69000244140624\n",
            "promotional prices you can consider 116.31999969482422\n",
            "promotional prices you can consider 115.97000122070312\n",
            "promotional prices you can consider 119.48999786376952\n",
            "promotional prices you can consider 119.20999908447266\n",
            "promotional prices you can consider 119.26000213623048\n",
            "promotional prices you can consider 120.3000030517578\n",
            "promotional prices you can consider 119.38999938964844\n",
            "promotional prices you can consider 118.02999877929688\n",
            "promotional prices you can consider 118.63999938964844\n",
            "promotional prices you can consider 117.33999633789062\n",
            "promotional prices you can consider 113.8499984741211\n",
            "promotional prices you can consider 115.16999816894533\n",
            "promotional prices you can consider 116.02999877929688\n",
            "promotional prices you can consider 116.58999633789062\n",
            "promotional prices you can consider 119.0500030517578\n",
            "promotional prices you can consider 122.72000122070312\n",
            "promotional prices you can consider 123.08000183105467\n",
            "promotional prices you can consider 122.94000244140624\n",
            "promotional prices you can consider 122.25\n",
            "promotional prices you can consider 123.75\n",
            "promotional prices you can consider 124.37999725341795\n",
            "promotional prices you can consider 121.77999877929688\n",
            "promotional prices you can consider 123.23999786376952\n",
            "promotional prices you can consider 122.41000366210938\n",
            "promotional prices you can consider 121.77999877929688\n",
            "promotional prices you can consider 127.87999725341795\n",
            "promotional prices you can consider 127.80999755859376\n",
            "promotional prices you can consider 128.6999969482422\n",
            "promotional prices you can consider 126.66000366210938\n",
            "promotional prices you can consider 128.22999572753906\n",
            "promotional prices you can consider 131.8800048828125\n",
            "promotional prices you can consider 130.9600067138672\n",
            "promotional prices you can consider 131.97000122070312\n",
            "promotional prices you can consider 136.69000244140625\n",
            "promotional prices you can consider 134.8699951171875\n",
            "promotional prices you can consider 133.72000122070312\n",
            "promotional prices you can consider 132.69000244140625\n",
            "promotional prices you can consider 129.41000366210938\n",
            "promotional prices you can consider 131.00999450683594\n",
            "promotional prices you can consider 126.5999984741211\n",
            "promotional prices you can consider 130.9199981689453\n",
            "promotional prices you can consider 132.0500030517578\n",
            "promotional prices you can consider 128.97999572753906\n",
            "promotional prices you can consider 128.8000030517578\n",
            "promotional prices you can consider 130.88999938964844\n",
            "promotional prices you can consider 128.91000366210938\n",
            "promotional prices you can consider 127.13999938964844\n",
            "promotional prices you can consider 127.83000183105467\n",
            "promotional prices you can consider 132.02999877929688\n",
            "promotional prices you can consider 136.8699951171875\n",
            "promotional prices you can consider 139.07000732421875\n",
            "promotional prices you can consider 142.9199981689453\n",
            "promotional prices you can consider 143.16000366210938\n",
            "promotional prices you can consider 142.05999755859375\n",
            "promotional prices you can consider 137.08999633789062\n",
            "promotional prices you can consider 131.9600067138672\n",
            "promotional prices you can consider 134.13999938964844\n",
            "promotional prices you can consider 134.99000549316406\n",
            "promotional prices you can consider 133.94000244140625\n",
            "promotional prices you can consider 137.38999938964844\n",
            "promotional prices you can consider 136.75999450683594\n",
            "promotional prices you can consider 136.91000366210938\n",
            "promotional prices you can consider 136.00999450683594\n",
            "promotional prices you can consider 135.38999938964844\n",
            "promotional prices you can consider 135.1300048828125\n",
            "promotional prices you can consider 135.3699951171875\n",
            "promotional prices you can consider 133.19000244140625\n",
            "promotional prices you can consider 130.83999633789062\n",
            "promotional prices you can consider 129.7100067138672\n",
            "promotional prices you can consider 129.8699951171875\n",
            "promotional prices you can consider 126.0\n",
            "promotional prices you can consider 125.86000061035156\n",
            "promotional prices you can consider 125.3499984741211\n",
            "promotional prices you can consider 120.98999786376952\n",
            "promotional prices you can consider 121.26000213623048\n",
            "promotional prices you can consider 127.79000091552734\n",
            "promotional prices you can consider 125.12000274658205\n",
            "promotional prices you can consider 122.05999755859376\n",
            "promotional prices you can consider 120.12999725341795\n",
            "promotional prices you can consider 121.41999816894533\n",
            "promotional prices you can consider 116.36000061035156\n",
            "promotional prices you can consider 121.08999633789062\n",
            "promotional prices you can consider 119.9800033569336\n",
            "promotional prices you can consider 121.95999908447266\n",
            "promotional prices you can consider 121.02999877929688\n",
            "promotional prices you can consider 123.98999786376952\n",
            "promotional prices you can consider 125.56999969482422\n",
            "promotional prices you can consider 124.76000213623048\n",
            "promotional prices you can consider 120.52999877929688\n",
            "promotional prices you can consider 119.98999786376952\n",
            "promotional prices you can consider 123.38999938964844\n",
            "promotional prices you can consider 122.54000091552734\n",
            "promotional prices you can consider 120.08999633789062\n",
            "promotional prices you can consider 120.58999633789062\n",
            "promotional prices you can consider 121.20999908447266\n",
            "promotional prices you can consider 121.38999938964844\n",
            "promotional prices you can consider 119.9000015258789\n",
            "promotional prices you can consider 122.1500015258789\n",
            "promotional prices you can consider 123.0\n",
            "promotional prices you can consider 125.9000015258789\n",
            "promotional prices you can consider 126.20999908447266\n",
            "promotional prices you can consider 127.9000015258789\n",
            "promotional prices you can consider 130.36000061035156\n",
            "promotional prices you can consider 133.0\n",
            "promotional prices you can consider 131.24000549316406\n",
            "promotional prices you can consider 134.42999267578125\n",
            "promotional prices you can consider 132.02999877929688\n",
            "promotional prices you can consider 134.5\n",
            "promotional prices you can consider 134.16000366210938\n",
            "promotional prices you can consider 134.83999633789062\n",
            "promotional prices you can consider 133.11000061035156\n",
            "promotional prices you can consider 133.5\n",
            "promotional prices you can consider 131.94000244140625\n",
            "promotional prices you can consider 134.32000732421875\n",
            "promotional prices you can consider 134.72000122070312\n",
            "promotional prices you can consider 134.38999938964844\n",
            "promotional prices you can consider 133.5800018310547\n",
            "promotional prices you can consider 133.47999572753906\n",
            "promotional prices you can consider 131.4600067138672\n",
            "promotional prices you can consider 132.5399932861328\n",
            "promotional prices you can consider 127.8499984741211\n",
            "promotional prices you can consider 128.10000610351562\n",
            "promotional prices you can consider 129.74000549316406\n",
            "promotional prices you can consider 130.2100067138672\n",
            "promotional prices you can consider 126.8499984741211\n",
            "promotional prices you can consider 125.91000366210938\n",
            "promotional prices you can consider 122.7699966430664\n",
            "promotional prices you can consider 124.97000122070312\n",
            "promotional prices you can consider 127.4499969482422\n",
            "promotional prices you can consider 126.2699966430664\n",
            "promotional prices you can consider 124.8499984741211\n",
            "promotional prices you can consider 124.69000244140624\n",
            "promotional prices you can consider 127.30999755859376\n",
            "promotional prices you can consider 125.43000030517578\n",
            "promotional prices you can consider 127.0999984741211\n",
            "promotional prices you can consider 126.9000015258789\n",
            "promotional prices you can consider 126.8499984741211\n",
            "promotional prices you can consider 125.27999877929688\n",
            "promotional prices you can consider 124.61000061035156\n",
            "promotional prices you can consider 124.27999877929688\n",
            "promotional prices you can consider 125.05999755859376\n",
            "promotional prices you can consider 123.54000091552734\n",
            "promotional prices you can consider 125.88999938964844\n",
            "promotional prices you can consider 125.9000015258789\n",
            "promotional prices you can consider 126.73999786376952\n",
            "promotional prices you can consider 127.12999725341795\n",
            "promotional prices you can consider 126.11000061035156\n",
            "promotional prices you can consider 127.3499984741211\n",
            "promotional prices you can consider 130.47999572753906\n",
            "promotional prices you can consider 129.63999938964844\n",
            "promotional prices you can consider 130.14999389648438\n",
            "promotional prices you can consider 131.7899932861328\n",
            "promotional prices you can consider 130.4600067138672\n",
            "promotional prices you can consider 132.3000030517578\n",
            "promotional prices you can consider 133.97999572753906\n",
            "promotional prices you can consider 133.6999969482422\n",
            "promotional prices you can consider 133.41000366210938\n",
            "promotional prices you can consider 133.11000061035156\n",
            "promotional prices you can consider 134.77999877929688\n",
            "promotional prices you can consider 136.3300018310547\n",
            "promotional prices you can consider 136.9600067138672\n",
            "promotional prices you can consider 137.27000427246094\n",
            "promotional prices you can consider 139.9600067138672\n",
            "promotional prices you can consider 142.02000427246094\n",
            "promotional prices you can consider 144.57000732421875\n",
            "promotional prices you can consider 143.24000549316406\n",
            "promotional prices you can consider 145.11000061035156\n",
            "promotional prices you can consider 144.5\n",
            "promotional prices you can consider 145.63999938964844\n",
            "promotional prices you can consider 149.14999389648438\n",
            "promotional prices you can consider 148.47999572753906\n",
            "promotional prices you can consider 146.38999938964844\n",
            "promotional prices you can consider 142.4499969482422\n",
            "promotional prices you can consider 146.14999389648438\n",
            "promotional prices you can consider 145.39999389648438\n",
            "promotional prices you can consider 146.8000030517578\n",
            "promotional prices you can consider 148.55999755859375\n",
            "promotional prices you can consider 148.99000549316406\n",
            "promotional prices you can consider 146.77000427246094\n",
            "promotional prices you can consider 144.97999572753906\n",
            "promotional prices you can consider 145.63999938964844\n",
            "promotional prices you can consider 145.86000061035156\n",
            "promotional prices you can consider 145.52000427246094\n",
            "promotional prices you can consider 147.36000061035156\n",
            "promotional prices you can consider 146.9499969482422\n",
            "promotional prices you can consider 147.05999755859375\n",
            "promotional prices you can consider 146.13999938964844\n",
            "promotional prices you can consider 146.08999633789062\n",
            "promotional prices you can consider 145.60000610351562\n",
            "promotional prices you can consider 145.86000061035156\n",
            "promotional prices you can consider 148.88999938964844\n",
            "promotional prices you can consider 149.10000610351562\n",
            "promotional prices you can consider 151.1199951171875\n",
            "promotional prices you can consider 150.19000244140625\n",
            "promotional prices you can consider 146.36000061035156\n",
            "promotional prices you can consider 146.6999969482422\n",
            "promotional prices you can consider 148.19000244140625\n",
            "promotional prices you can consider 149.7100067138672\n",
            "promotional prices you can consider 149.6199951171875\n",
            "promotional prices you can consider 148.36000061035156\n",
            "promotional prices you can consider 147.5399932861328\n",
            "promotional prices you can consider 148.60000610351562\n",
            "promotional prices you can consider 153.1199951171875\n",
            "promotional prices you can consider 151.8300018310547\n",
            "promotional prices you can consider 152.50999450683594\n",
            "promotional prices you can consider 153.64999389648438\n",
            "promotional prices you can consider 154.3000030517578\n",
            "promotional prices you can consider 156.69000244140625\n",
            "promotional prices you can consider 155.11000061035156\n",
            "promotional prices you can consider 154.07000732421875\n",
            "promotional prices you can consider 148.97000122070312\n",
            "promotional prices you can consider 149.5500030517578\n",
            "promotional prices you can consider 148.1199951171875\n",
            "promotional prices you can consider 149.02999877929688\n",
            "promotional prices you can consider 148.7899932861328\n",
            "promotional prices you can consider 146.05999755859375\n",
            "promotional prices you can consider 142.94000244140625\n",
            "promotional prices you can consider 143.42999267578125\n",
            "promotional prices you can consider 145.85000610351562\n",
            "promotional prices you can consider 146.8300018310547\n",
            "promotional prices you can consider 146.9199981689453\n",
            "promotional prices you can consider 145.3699951171875\n",
            "promotional prices you can consider 141.91000366210938\n",
            "promotional prices you can consider 142.8300018310547\n",
            "promotional prices you can consider 141.5\n",
            "promotional prices you can consider 142.64999389648438\n",
            "promotional prices you can consider 139.13999938964844\n",
            "promotional prices you can consider 141.11000061035156\n",
            "promotional prices you can consider 142.0\n",
            "promotional prices you can consider 143.2899932861328\n",
            "promotional prices you can consider 142.89999389648438\n",
            "promotional prices you can consider 142.80999755859375\n",
            "promotional prices you can consider 141.50999450683594\n",
            "promotional prices you can consider 140.91000366210938\n",
            "promotional prices you can consider 143.75999450683594\n",
            "promotional prices you can consider 144.83999633789062\n",
            "promotional prices you can consider 146.5500030517578\n",
            "promotional prices you can consider 148.75999450683594\n",
            "promotional prices you can consider 149.25999450683594\n",
            "promotional prices you can consider 149.47999572753906\n",
            "promotional prices you can consider 148.69000244140625\n",
            "promotional prices you can consider 148.63999938964844\n",
            "promotional prices you can consider 149.32000732421875\n",
            "promotional prices you can consider 148.85000610351562\n",
            "promotional prices you can consider 152.57000732421875\n",
            "promotional prices you can consider 149.8000030517578\n",
            "promotional prices you can consider 148.9600067138672\n",
            "promotional prices you can consider 150.02000427246094\n",
            "promotional prices you can consider 151.49000549316406\n",
            "promotional prices you can consider 150.9600067138672\n",
            "promotional prices you can consider 151.27999877929688\n",
            "promotional prices you can consider 150.44000244140625\n",
            "promotional prices you can consider 150.80999755859375\n",
            "promotional prices you can consider 147.9199981689453\n",
            "promotional prices you can consider 147.8699951171875\n",
            "promotional prices you can consider 149.99000549316406\n",
            "promotional prices you can consider 150.0\n",
            "promotional prices you can consider 151.0\n",
            "promotional prices you can consider 153.49000549316406\n",
            "promotional prices you can consider 157.8699951171875\n",
            "promotional prices you can consider 160.5500030517578\n",
            "promotional prices you can consider 161.02000427246094\n",
            "promotional prices you can consider 161.41000366210938\n",
            "promotional prices you can consider 161.94000244140625\n",
            "promotional prices you can consider 156.80999755859375\n",
            "promotional prices you can consider 160.24000549316406\n",
            "promotional prices you can consider 165.3000030517578\n",
            "promotional prices you can consider 164.77000427246094\n",
            "promotional prices you can consider 163.75999450683594\n",
            "promotional prices you can consider 161.83999633789062\n",
            "promotional prices you can consider 165.32000732421875\n",
            "promotional prices you can consider 171.17999267578125\n",
            "promotional prices you can consider 175.0800018310547\n",
            "promotional prices you can consider 174.55999755859375\n",
            "promotional prices you can consider 179.4499969482422\n",
            "promotional prices you can consider 175.74000549316406\n",
            "promotional prices you can consider 174.3300018310547\n",
            "promotional prices you can consider 179.3000030517578\n",
            "promotional prices you can consider 172.25999450683594\n",
            "promotional prices you can consider 171.13999938964844\n",
            "promotional prices you can consider 169.75\n",
            "promotional prices you can consider 172.99000549316406\n",
            "promotional prices you can consider 175.63999938964844\n",
            "promotional prices you can consider 176.27999877929688\n",
            "promotional prices you can consider 180.3300018310547\n",
            "promotional prices you can consider 179.2899932861328\n",
            "promotional prices you can consider 179.3800048828125\n",
            "promotional prices you can consider 178.1999969482422\n",
            "promotional prices you can consider 177.57000732421875\n",
            "promotional prices you can consider 182.00999450683597\n",
            "promotional prices you can consider 179.6999969482422\n",
            "promotional prices you can consider 174.9199981689453\n",
            "promotional prices you can consider 172.0\n",
            "promotional prices you can consider 172.1699981689453\n",
            "promotional prices you can consider 172.19000244140625\n",
            "promotional prices you can consider 175.0800018310547\n",
            "promotional prices you can consider 175.52999877929688\n",
            "promotional prices you can consider 172.19000244140625\n",
            "promotional prices you can consider 173.07000732421875\n",
            "promotional prices you can consider 169.8000030517578\n",
            "promotional prices you can consider 166.22999572753906\n",
            "promotional prices you can consider 164.50999450683594\n",
            "promotional prices you can consider 162.41000366210938\n",
            "promotional prices you can consider 161.6199951171875\n",
            "promotional prices you can consider 159.77999877929688\n",
            "promotional prices you can consider 159.69000244140625\n",
            "promotional prices you can consider 159.22000122070312\n",
            "promotional prices you can consider 170.3300018310547\n",
            "promotional prices you can consider 174.77999877929688\n",
            "promotional prices you can consider 174.61000061035156\n",
            "promotional prices you can consider 175.83999633789062\n",
            "promotional prices you can consider 172.89999389648438\n",
            "promotional prices you can consider 172.38999938964844\n",
            "promotional prices you can consider 171.66000366210938\n",
            "promotional prices you can consider 174.8300018310547\n",
            "promotional prices you can consider 176.27999877929688\n",
            "promotional prices you can consider 172.1199951171875\n",
            "promotional prices you can consider 168.63999938964844\n",
            "promotional prices you can consider 168.8800048828125\n",
            "promotional prices you can consider 172.7899932861328\n",
            "promotional prices you can consider 172.5500030517578\n",
            "promotional prices you can consider 168.8800048828125\n",
            "promotional prices you can consider 167.3000030517578\n",
            "promotional prices you can consider 164.32000732421875\n",
            "promotional prices you can consider 160.07000732421875\n",
            "promotional prices you can consider 162.74000549316406\n",
            "promotional prices you can consider 164.85000610351562\n",
            "promotional prices you can consider 165.1199951171875\n",
            "promotional prices you can consider 163.1999969482422\n",
            "promotional prices you can consider 166.55999755859375\n",
            "promotional prices you can consider 166.22999572753906\n",
            "promotional prices you can consider 163.1699981689453\n",
            "promotional prices you can consider 159.3000030517578\n",
            "promotional prices you can consider 157.44000244140625\n",
            "promotional prices you can consider 162.9499969482422\n",
            "promotional prices you can consider 158.52000427246094\n",
            "promotional prices you can consider 154.72999572753906\n",
            "promotional prices you can consider 150.6199951171875\n",
            "promotional prices you can consider 155.08999633789062\n",
            "promotional prices you can consider 159.58999633789062\n",
            "promotional prices you can consider 160.6199951171875\n",
            "promotional prices you can consider 163.97999572753906\n",
            "promotional prices you can consider 165.3800048828125\n",
            "promotional prices you can consider 168.82000732421875\n",
            "promotional prices you can consider 170.2100067138672\n",
            "promotional prices you can consider 174.07000732421875\n",
            "promotional prices you can consider 174.72000122070312\n",
            "promotional prices you can consider 175.60000610351562\n",
            "promotional prices you can consider 178.9600067138672\n",
            "promotional prices you can consider 177.77000427246094\n",
            "promotional prices you can consider 174.61000061035156\n",
            "promotional prices you can consider 174.30999755859375\n",
            "promotional prices you can consider 178.44000244140625\n",
            "promotional prices you can consider 175.05999755859375\n",
            "promotional prices you can consider 171.8300018310547\n",
            "promotional prices you can consider 172.13999938964844\n",
            "promotional prices you can consider 170.08999633789062\n",
            "promotional prices you can consider 165.75\n",
            "promotional prices you can consider 167.66000366210938\n",
            "promotional prices you can consider 170.39999389648438\n",
            "promotional prices you can consider 165.2899932861328\n",
            "promotional prices you can consider 165.07000732421875\n",
            "promotional prices you can consider 167.39999389648438\n",
            "promotional prices you can consider 167.22999572753906\n",
            "promotional prices you can consider 166.4199981689453\n",
            "promotional prices you can consider 161.7899932861328\n",
            "promotional prices you can consider 162.8800048828125\n",
            "promotional prices you can consider 156.8000030517578\n",
            "promotional prices you can consider 156.57000732421875\n",
            "promotional prices you can consider 163.63999938964844\n",
            "promotional prices you can consider 157.64999389648438\n",
            "promotional prices you can consider 157.9600067138672\n",
            "promotional prices you can consider 159.47999572753906\n",
            "promotional prices you can consider 166.02000427246094\n",
            "promotional prices you can consider 156.77000427246094\n",
            "promotional prices you can consider 157.27999877929688\n",
            "promotional prices you can consider 152.05999755859375\n",
            "promotional prices you can consider 154.50999450683594\n",
            "promotional prices you can consider 146.5\n",
            "promotional prices you can consider 142.55999755859375\n",
            "promotional prices you can consider 147.11000061035156\n",
            "promotional prices you can consider 145.5399932861328\n",
            "promotional prices you can consider 149.24000549316406\n",
            "promotional prices you can consider 140.82000732421875\n",
            "promotional prices you can consider 137.35000610351562\n",
            "promotional prices you can consider 137.58999633789062\n",
            "promotional prices you can consider 143.11000061035156\n",
            "promotional prices you can consider 140.36000061035156\n",
            "promotional prices you can consider 140.52000427246094\n",
            "promotional prices you can consider 143.77999877929688\n",
            "promotional prices you can consider 149.63999938964844\n",
            "promotional prices you can consider 148.83999633789062\n",
            "promotional prices you can consider 148.7100067138672\n",
            "promotional prices you can consider 151.2100067138672\n",
            "promotional prices you can consider 145.3800048828125\n",
            "promotional prices you can consider 146.13999938964844\n",
            "promotional prices you can consider 148.7100067138672\n",
            "promotional prices you can consider 147.9600067138672\n",
            "promotional prices you can consider 142.63999938964844\n",
            "promotional prices you can consider 137.1300048828125\n",
            "promotional prices you can consider 131.8800048828125\n",
            "promotional prices you can consider 132.75999450683594\n",
            "promotional prices you can consider 135.42999267578125\n",
            "promotional prices you can consider 130.05999755859375\n",
            "promotional prices you can consider 131.55999755859375\n",
            "promotional prices you can consider 135.8699951171875\n",
            "promotional prices you can consider 135.35000610351562\n",
            "promotional prices you can consider 138.27000427246094\n",
            "promotional prices you can consider 141.66000366210938\n",
            "promotional prices you can consider 141.66000366210938\n",
            "promotional prices you can consider 137.44000244140625\n",
            "promotional prices you can consider 139.22999572753906\n",
            "promotional prices you can consider 136.72000122070312\n",
            "promotional prices you can consider 138.92999267578125\n",
            "promotional prices you can consider 141.55999755859375\n",
            "promotional prices you can consider 142.9199981689453\n",
            "promotional prices you can consider 146.35000610351562\n",
            "promotional prices you can consider 147.0399932861328\n",
            "promotional prices you can consider 144.8699951171875\n",
            "promotional prices you can consider 145.86000061035156\n",
            "promotional prices you can consider 145.49000549316406\n",
            "promotional prices you can consider 148.47000122070312\n",
            "promotional prices you can consider 150.1699981689453\n",
            "promotional prices you can consider 147.07000732421875\n",
            "promotional prices you can consider 151.0\n",
            "promotional prices you can consider 153.0399932861328\n",
            "promotional prices you can consider 155.35000610351562\n",
            "promotional prices you can consider 154.08999633789062\n",
            "promotional prices you can consider 152.9499969482422\n",
            "promotional prices you can consider 151.60000610351562\n",
            "promotional prices you can consider 156.7899932861328\n",
            "promotional prices you can consider 157.35000610351562\n",
            "promotional prices you can consider 162.50999450683594\n",
            "promotional prices you can consider 161.50999450683594\n",
            "promotional prices you can consider 160.00999450683594\n",
            "promotional prices you can consider 166.1300048828125\n",
            "promotional prices you can consider 165.80999755859375\n",
            "promotional prices you can consider 165.35000610351562\n",
            "promotional prices you can consider 164.8699951171875\n",
            "promotional prices you can consider 164.9199981689453\n",
            "promotional prices you can consider 169.24000549316406\n",
            "promotional prices you can consider 168.49000549316406\n",
            "promotional prices you can consider 172.10000610351562\n",
            "promotional prices you can consider 173.19000244140625\n",
            "promotional prices you can consider 173.02999877929688\n",
            "promotional prices you can consider 174.5500030517578\n",
            "promotional prices you can consider 174.14999389648438\n",
            "promotional prices you can consider 171.52000427246094\n",
            "promotional prices you can consider 167.57000732421875\n",
            "promotional prices you can consider 167.22999572753906\n",
            "promotional prices you can consider 167.52999877929688\n",
            "promotional prices you can consider 170.02999877929688\n",
            "promotional prices you can consider 163.6199951171875\n",
            "promotional prices you can consider 161.3800048828125\n",
            "promotional prices you can consider 158.91000366210938\n",
            "promotional prices you can consider 157.22000122070312\n",
            "promotional prices you can consider 157.9600067138672\n",
            "promotional prices you can consider 155.80999755859375\n",
            "promotional prices you can consider 154.52999877929688\n",
            "promotional prices you can consider 155.9600067138672\n",
            "promotional prices you can consider 154.4600067138672\n",
            "promotional prices you can consider 157.3699951171875\n",
            "promotional prices you can consider 163.42999267578125\n",
            "promotional prices you can consider 153.83999633789062\n",
            "promotional prices you can consider 155.30999755859375\n",
            "promotional prices you can consider 152.3699951171875\n",
            "promotional prices you can consider 150.6999969482422\n",
            "promotional prices you can consider 154.47999572753906\n",
            "promotional prices you can consider 156.89999389648438\n",
            "promotional prices you can consider 153.72000122070312\n",
            "promotional prices you can consider 152.74000549316406\n",
            "promotional prices you can consider 150.42999267578125\n",
            "promotional prices you can consider 150.77000427246094\n",
            "promotional prices you can consider 151.75999450683594\n",
            "promotional prices you can consider 149.83999633789062\n",
            "promotional prices you can consider 142.47999572753906\n",
            "promotional prices you can consider 138.1999969482422\n",
            "promotional prices you can consider 142.4499969482422\n",
            "promotional prices you can consider 146.10000610351562\n",
            "promotional prices you can consider 146.39999389648438\n",
            "promotional prices you can consider 145.42999267578125\n",
            "promotional prices you can consider 140.08999633789062\n",
            "promotional prices you can consider 140.4199981689453\n",
            "promotional prices you can consider 138.97999572753906\n",
            "promotional prices you can consider 138.33999633789062\n",
            "promotional prices you can consider 142.99000549316406\n",
            "promotional prices you can consider 138.3800048828125\n",
            "promotional prices you can consider 142.41000366210938\n",
            "promotional prices you can consider 143.75\n",
            "promotional prices you can consider 143.86000061035156\n",
            "promotional prices you can consider 143.38999938964844\n",
            "promotional prices you can consider 147.27000427246094\n",
            "promotional prices you can consider 149.4499969482422\n",
            "promotional prices you can consider 152.33999633789062\n",
            "promotional prices you can consider 149.35000610351562\n",
            "promotional prices you can consider 144.8000030517578\n",
            "promotional prices you can consider 155.74000549316406\n",
            "promotional prices you can consider 153.33999633789062\n",
            "promotional prices you can consider 150.64999389648438\n",
            "promotional prices you can consider 145.02999877929688\n",
            "promotional prices you can consider 138.8800048828125\n",
            "promotional prices you can consider 138.3800048828125\n",
            "promotional prices you can consider 138.9199981689453\n",
            "promotional prices you can consider 139.5\n",
            "promotional prices you can consider 134.8699951171875\n",
            "promotional prices you can consider 146.8699951171875\n",
            "promotional prices you can consider 149.6999969482422\n",
            "promotional prices you can consider 148.27999877929688\n",
            "promotional prices you can consider 150.0399932861328\n",
            "promotional prices you can consider 148.7899932861328\n",
            "promotional prices you can consider 150.72000122070312\n",
            "promotional prices you can consider 151.2899932861328\n",
            "promotional prices you can consider 148.00999450683594\n",
            "promotional prices you can consider 150.17999267578125\n",
            "promotional prices you can consider 151.07000732421875\n",
            "promotional prices you can consider 148.11000061035156\n",
            "promotional prices you can consider 144.22000122070312\n",
            "promotional prices you can consider 141.1699981689453\n",
            "promotional prices you can consider 148.02999877929688\n",
            "promotional prices you can consider 148.30999755859375\n",
            "promotional prices you can consider 147.80999755859375\n",
            "promotional prices you can consider 146.6300048828125\n",
            "promotional prices you can consider 142.91000366210938\n",
            "promotional prices you can consider 140.94000244140625\n",
            "promotional prices you can consider 142.64999389648438\n",
            "promotional prices you can consider 142.16000366210938\n",
            "promotional prices you can consider 144.49000549316406\n",
            "promotional prices you can consider 145.47000122070312\n",
            "promotional prices you can consider 143.2100067138672\n",
            "promotional prices you can consider 136.5\n",
            "promotional prices you can consider 134.50999450683594\n",
            "promotional prices you can consider 132.3699951171875\n",
            "promotional prices you can consider 132.3000030517578\n",
            "promotional prices you can consider 135.4499969482422\n",
            "promotional prices you can consider 132.22999572753906\n",
            "promotional prices you can consider 131.86000061035156\n",
            "promotional prices you can consider 130.02999877929688\n",
            "promotional prices you can consider 126.04000091552734\n",
            "promotional prices you can consider 129.61000061035156\n",
            "promotional prices you can consider 129.92999267578125\n"
          ]
        }
      ]
    },
    {
      "cell_type": "code",
      "source": [],
      "metadata": {
        "id": "cgul-nrbO1id"
      },
      "execution_count": null,
      "outputs": []
    },
    {
      "cell_type": "code",
      "source": [],
      "metadata": {
        "id": "ZRi3i-0AO963"
      },
      "execution_count": null,
      "outputs": []
    }
  ],
  "metadata": {
    "colab": {
      "provenance": []
    },
    "kernelspec": {
      "display_name": "Python 3",
      "name": "python3"
    },
    "language_info": {
      "name": "python"
    }
  },
  "nbformat": 4,
  "nbformat_minor": 0
}